{
 "cells": [
  {
   "cell_type": "markdown",
   "metadata": {},
   "source": [
    "Basically we are replacing .expm() of qutip with expm() of scipy\n",
    "in this file as compared to rehash1.ipynb and making it U_2*U_1 instead of U_1 *U_2"
   ]
  },
  {
   "cell_type": "markdown",
   "metadata": {
    "heading_collapsed": true
   },
   "source": [
    "# Imports"
   ]
  },
  {
   "cell_type": "markdown",
   "metadata": {
    "heading_collapsed": true,
    "hidden": true
   },
   "source": [
    "## Qutip imports"
   ]
  },
  {
   "cell_type": "code",
   "execution_count": 1,
   "metadata": {
    "ExecuteTime": {
     "end_time": "2018-12-13T11:54:55.511084Z",
     "start_time": "2018-12-13T11:54:54.128120Z"
    },
    "hidden": true
   },
   "outputs": [],
   "source": [
    "from qutip.operators import sigmax, sigmay, sigmaz, identity\n",
    "# position,  num\n",
    "from qutip.tensor import tensor\n",
    "from qutip.qip.gates import swap, rx, ry, rz\n",
    "from qutip.qobj import Qobj\n",
    "from qutip.visualization import hinton\n",
    "from qutip.visualization import matrix_histogram_complex, matrix_histogram"
   ]
  },
  {
   "cell_type": "markdown",
   "metadata": {
    "hidden": true
   },
   "source": [
    "## Numpy imports "
   ]
  },
  {
   "cell_type": "code",
   "execution_count": 2,
   "metadata": {
    "ExecuteTime": {
     "end_time": "2018-12-13T11:54:55.517232Z",
     "start_time": "2018-12-13T11:54:55.513098Z"
    },
    "hidden": true
   },
   "outputs": [],
   "source": [
    "from numpy import sin, cos, tan, real, imag,  log\n",
    "from numpy import array, append, linspace, arange\n",
    "from numpy import add, sqrt, abs, exp\n",
    "from numpy.random import random, random_sample\n",
    "from numpy import concatenate, trace\n",
    "# from numpy import pi"
   ]
  },
  {
   "cell_type": "markdown",
   "metadata": {
    "hidden": true
   },
   "source": [
    "## Scipy imports"
   ]
  },
  {
   "cell_type": "code",
   "execution_count": 3,
   "metadata": {
    "ExecuteTime": {
     "end_time": "2018-12-13T11:54:55.522412Z",
     "start_time": "2018-12-13T11:54:55.519536Z"
    },
    "hidden": true
   },
   "outputs": [],
   "source": [
    "from scipy.integrate import ode, odeint, complex_ode\n",
    "from scipy.optimize import minimize\n",
    "# from scipy.linalg import \n",
    "from scipy.linalg import eigh, inv, norm, expm"
   ]
  },
  {
   "cell_type": "markdown",
   "metadata": {
    "hidden": true
   },
   "source": [
    "## Matplotlib imports"
   ]
  },
  {
   "cell_type": "code",
   "execution_count": 4,
   "metadata": {
    "ExecuteTime": {
     "end_time": "2018-12-13T11:54:55.529547Z",
     "start_time": "2018-12-13T11:54:55.524948Z"
    },
    "hidden": true
   },
   "outputs": [],
   "source": [
    "from matplotlib.pyplot import plot, figure, show, savefig, axes\n",
    "from matplotlib.pyplot import xlabel, ylabel, title, legend\n",
    "from matplotlib import rcParams\n",
    "from matplotlib.pyplot import style \n",
    "from matplotlib.pyplot import xlim, ylim, axis \n",
    "# beware not same as axes\n",
    "from matplotlib.pyplot import subplot, subplots, text\n",
    "from matplotlib.pyplot import GridSpec\n",
    "\n",
    "\n",
    "\n",
    "pgf_with_rc_fonts = {\"pgf.texsystem\": \"pdflatex\"}\n",
    "rcParams.update(pgf_with_rc_fonts)\n",
    "style.use('seaborn-whitegrid')\n",
    "\n"
   ]
  },
  {
   "cell_type": "markdown",
   "metadata": {
    "hidden": true
   },
   "source": [
    "## Math imports"
   ]
  },
  {
   "cell_type": "code",
   "execution_count": 5,
   "metadata": {
    "ExecuteTime": {
     "end_time": "2018-12-13T11:54:55.534027Z",
     "start_time": "2018-12-13T11:54:55.531481Z"
    },
    "hidden": true
   },
   "outputs": [],
   "source": [
    "from math import pi"
   ]
  },
  {
   "cell_type": "markdown",
   "metadata": {
    "hidden": true
   },
   "source": [
    "## Cmath imports"
   ]
  },
  {
   "cell_type": "code",
   "execution_count": null,
   "metadata": {
    "hidden": true
   },
   "outputs": [],
   "source": []
  },
  {
   "cell_type": "markdown",
   "metadata": {
    "hidden": true
   },
   "source": [
    "## Date and datetime imports"
   ]
  },
  {
   "cell_type": "code",
   "execution_count": 6,
   "metadata": {
    "ExecuteTime": {
     "end_time": "2018-12-13T11:54:55.539371Z",
     "start_time": "2018-12-13T11:54:55.536536Z"
    },
    "hidden": true
   },
   "outputs": [],
   "source": [
    "from datetime import date\n",
    "from datetime import datetime# now\n"
   ]
  },
  {
   "cell_type": "markdown",
   "metadata": {
    "hidden": true
   },
   "source": [
    "## Os imports"
   ]
  },
  {
   "cell_type": "code",
   "execution_count": 7,
   "metadata": {
    "ExecuteTime": {
     "end_time": "2018-12-13T11:54:55.544184Z",
     "start_time": "2018-12-13T11:54:55.541504Z"
    },
    "hidden": true
   },
   "outputs": [],
   "source": [
    "from os import getcwd, mkdir, chdir\n",
    "from os.path import abspath, join \n"
   ]
  },
  {
   "cell_type": "markdown",
   "metadata": {
    "hidden": true
   },
   "source": [
    "## Sympy imports"
   ]
  },
  {
   "cell_type": "code",
   "execution_count": 8,
   "metadata": {
    "ExecuteTime": {
     "end_time": "2018-12-13T11:54:56.158662Z",
     "start_time": "2018-12-13T11:54:55.546593Z"
    },
    "hidden": true
   },
   "outputs": [],
   "source": [
    "from sympy import Function, dsolve, Eq, Derivative, symbols\n",
    "# x, y, z, t = symbols('x y z t')\n",
    "# k, m, n = symbols('k m n', integer=True)\n",
    "# f, g, h = symbols('f g h', cls=Function)"
   ]
  },
  {
   "cell_type": "markdown",
   "metadata": {
    "hidden": true
   },
   "source": [
    "## Miscellaneous imports"
   ]
  },
  {
   "cell_type": "code",
   "execution_count": null,
   "metadata": {
    "hidden": true
   },
   "outputs": [],
   "source": []
  },
  {
   "cell_type": "markdown",
   "metadata": {
    "hidden": true
   },
   "source": [
    "## Extra useful functions"
   ]
  },
  {
   "cell_type": "code",
   "execution_count": 9,
   "metadata": {
    "ExecuteTime": {
     "end_time": "2018-12-13T11:54:56.163961Z",
     "start_time": "2018-12-13T11:54:56.161360Z"
    },
    "hidden": true
   },
   "outputs": [],
   "source": [
    "def rint(x):\n",
    "    print(\"x = \", x)\n",
    "    return None"
   ]
  },
  {
   "cell_type": "markdown",
   "metadata": {},
   "source": [
    "# Trotter Suzuki for two qubits and  xx hamiltonian"
   ]
  },
  {
   "cell_type": "markdown",
   "metadata": {
    "heading_collapsed": true
   },
   "source": [
    "## Constants in the problem"
   ]
  },
  {
   "cell_type": "code",
   "execution_count": 10,
   "metadata": {
    "ExecuteTime": {
     "end_time": "2018-12-13T11:54:56.171333Z",
     "start_time": "2018-12-13T11:54:56.167380Z"
    },
    "hidden": true
   },
   "outputs": [],
   "source": [
    "omega1 = 0.5\n",
    "omega2 = 0.7\n",
    "dt = 0.001\n",
    "t_final = 5.0\n",
    "Nt = int(t_final/dt)\n"
   ]
  },
  {
   "cell_type": "markdown",
   "metadata": {
    "heading_collapsed": true
   },
   "source": [
    "## repeated variables"
   ]
  },
  {
   "cell_type": "code",
   "execution_count": 11,
   "metadata": {
    "ExecuteTime": {
     "end_time": "2018-12-13T11:54:56.177838Z",
     "start_time": "2018-12-13T11:54:56.174079Z"
    },
    "hidden": true
   },
   "outputs": [],
   "source": [
    "Q = identity(2)"
   ]
  },
  {
   "cell_type": "markdown",
   "metadata": {
    "heading_collapsed": true
   },
   "source": [
    "## Defining g(t)"
   ]
  },
  {
   "cell_type": "code",
   "execution_count": 12,
   "metadata": {
    "ExecuteTime": {
     "end_time": "2018-12-13T11:54:56.183730Z",
     "start_time": "2018-12-13T11:54:56.180283Z"
    },
    "hidden": true
   },
   "outputs": [],
   "source": [
    "def g(t):\n",
    "    #g = sin(t)\n",
    "    if 0.0 <= t <= 2.0:\n",
    "        g = 0.2\n",
    "    elif 2.0 < t <= 3.0 :\n",
    "        g = 0.5\n",
    "    elif 3.0 < t <= 5.0 :\n",
    "        g = 0.3\n",
    "    else :\n",
    "        g = 0.0\n",
    "    return g"
   ]
  },
  {
   "cell_type": "code",
   "execution_count": 13,
   "metadata": {
    "ExecuteTime": {
     "end_time": "2018-12-13T11:54:56.646208Z",
     "start_time": "2018-12-13T11:54:56.186807Z"
    },
    "hidden": true
   },
   "outputs": [
    {
     "data": {
      "text/plain": [
       "[Text(0,0.5,'g(t)'), Text(0.5,0,'t'), Text(0.5,1,'Plot of g(t)')]"
      ]
     },
     "execution_count": 13,
     "metadata": {},
     "output_type": "execute_result"
    },
    {
     "data": {
      "image/png": "[encoded data removed]",
      "text/plain": [
       "<matplotlib.figure.Figure at 0x1a09eaacc0>"
      ]
     },
     "metadata": {},
     "output_type": "display_data"
    }
   ],
   "source": [
    "''''t_s = linspace(0, pi, 100)\n",
    "plot(t_s, g(t_s))'''\n",
    "fig = figure()\n",
    "ax = axes()\n",
    "t_set = linspace(0.0, 5.0, 100)\n",
    "g_set = array([g(t) for t in t_set])\n",
    "ax.plot(t_set, g_set)\n",
    "ax.set(xlabel='t', ylabel='g(t)', \n",
    "      title='Plot of g(t)')"
   ]
  },
  {
   "cell_type": "markdown",
   "metadata": {
    "heading_collapsed": true
   },
   "source": [
    "## Integral of g(t)"
   ]
  },
  {
   "cell_type": "code",
   "execution_count": 14,
   "metadata": {
    "ExecuteTime": {
     "end_time": "2018-12-13T11:54:56.652410Z",
     "start_time": "2018-12-13T11:54:56.648310Z"
    },
    "hidden": true
   },
   "outputs": [],
   "source": [
    "def i_of_g(t_start, t_step):\n",
    "    t_end = t_start + t_step\n",
    "    \n",
    "    if 0.0 <= t_start < 2.0:\n",
    "        ig = 0.2*t_step\n",
    "    elif 2.0 <= t_start < 3.0 :\n",
    "        ig = 0.5*t_step\n",
    "    elif 3.0 <= t_start <= 5.0 :\n",
    "        ig = 0.3*t_step\n",
    "    else :\n",
    "        ig = 0.0\n",
    "    return ig"
   ]
  },
  {
   "cell_type": "code",
   "execution_count": 15,
   "metadata": {
    "ExecuteTime": {
     "end_time": "2018-12-13T11:54:56.805905Z",
     "start_time": "2018-12-13T11:54:56.654591Z"
    },
    "hidden": true
   },
   "outputs": [
    {
     "data": {
      "text/plain": [
       "[Text(0,0.5,'ig(t)'), Text(0.5,0,'t'), Text(0.5,1,'Plot of integral of g(t)')]"
      ]
     },
     "execution_count": 15,
     "metadata": {},
     "output_type": "execute_result"
    },
    {
     "data": {
      "image/png": "[encoded data removed]",
      "text/plain": [
       "<matplotlib.figure.Figure at 0x1a154d7160>"
      ]
     },
     "metadata": {},
     "output_type": "display_data"
    }
   ],
   "source": [
    "''''t_s = linspace(0, pi, 100)\n",
    "plot(t_s, ig(t_s))'''\n",
    "fig = figure()\n",
    "ax = axes()\n",
    "t_set = linspace(0.0, 5.0, 100)\n",
    "ig_set = array([i_of_g(t, 0.1) for t in t_set])\n",
    "ax.plot(t_set, ig_set)\n",
    "ax.set(xlabel='t', ylabel='ig(t)', \n",
    "      title='Plot of integral of g(t)')\n"
   ]
  },
  {
   "cell_type": "markdown",
   "metadata": {
    "heading_collapsed": true
   },
   "source": [
    "## Defining the Hamiltonian"
   ]
  },
  {
   "cell_type": "markdown",
   "metadata": {
    "heading_collapsed": true,
    "hidden": true
   },
   "source": [
    "### H1"
   ]
  },
  {
   "cell_type": "code",
   "execution_count": 16,
   "metadata": {
    "ExecuteTime": {
     "end_time": "2018-12-13T11:54:56.819662Z",
     "start_time": "2018-12-13T11:54:56.808323Z"
    },
    "hidden": true
   },
   "outputs": [
    {
     "data": {
      "text/latex": [
       "Quantum object: dims = [[2, 2], [2, 2]], shape = (4, 4), type = oper, isherm = True\\begin{equation*}\\left(\\begin{array}{*{11}c}0.600 & 0.0 & 0.0 & 0.0\\\\0.0 & -0.100 & 0.0 & 0.0\\\\0.0 & 0.0 & 0.100 & 0.0\\\\0.0 & 0.0 & 0.0 & -0.600\\\\\\end{array}\\right)\\end{equation*}"
      ],
      "text/plain": [
       "Quantum object: dims = [[2, 2], [2, 2]], shape = (4, 4), type = oper, isherm = True\n",
       "Qobj data =\n",
       "[[ 0.6  0.   0.   0. ]\n",
       " [ 0.  -0.1  0.   0. ]\n",
       " [ 0.   0.   0.1  0. ]\n",
       " [ 0.   0.   0.  -0.6]]"
      ]
     },
     "execution_count": 16,
     "metadata": {},
     "output_type": "execute_result"
    }
   ],
   "source": [
    "H1 = (omega1/2)*tensor(sigmaz(), Q) + (omega2/2)*tensor(Q, sigmaz()) \n",
    "H1"
   ]
  },
  {
   "cell_type": "markdown",
   "metadata": {
    "heading_collapsed": true,
    "hidden": true
   },
   "source": [
    "### H2 "
   ]
  },
  {
   "cell_type": "code",
   "execution_count": 17,
   "metadata": {
    "ExecuteTime": {
     "end_time": "2018-12-13T11:54:56.830568Z",
     "start_time": "2018-12-13T11:54:56.822132Z"
    },
    "hidden": true
   },
   "outputs": [
    {
     "data": {
      "text/latex": [
       "Quantum object: dims = [[2, 2], [2, 2]], shape = (4, 4), type = oper, isherm = True\\begin{equation*}\\left(\\begin{array}{*{11}c}0.0 & 0.0 & 0.0 & 0.300\\\\0.0 & 0.0 & 0.300 & 0.0\\\\0.0 & 0.300 & 0.0 & 0.0\\\\0.300 & 0.0 & 0.0 & 0.0\\\\\\end{array}\\right)\\end{equation*}"
      ],
      "text/plain": [
       "Quantum object: dims = [[2, 2], [2, 2]], shape = (4, 4), type = oper, isherm = True\n",
       "Qobj data =\n",
       "[[ 0.   0.   0.   0.3]\n",
       " [ 0.   0.   0.3  0. ]\n",
       " [ 0.   0.3  0.   0. ]\n",
       " [ 0.3  0.   0.   0. ]]"
      ]
     },
     "execution_count": 17,
     "metadata": {},
     "output_type": "execute_result"
    }
   ],
   "source": [
    "'''\n",
    "H2 = tensor(sigmaz(), sigmaz())\n",
    "H2\n",
    "'''\n",
    "def H2(t):\n",
    "    H2 = g(t)*tensor(sigmax(), sigmax())\n",
    "    return H2\n",
    "\n",
    "H2(t_final)\n",
    "\n"
   ]
  },
  {
   "cell_type": "markdown",
   "metadata": {
    "heading_collapsed": true,
    "hidden": true
   },
   "source": [
    "### Finally the  Hamiltonian"
   ]
  },
  {
   "cell_type": "code",
   "execution_count": 18,
   "metadata": {
    "ExecuteTime": {
     "end_time": "2018-12-13T11:54:56.840617Z",
     "start_time": "2018-12-13T11:54:56.832691Z"
    },
    "hidden": true
   },
   "outputs": [
    {
     "data": {
      "text/latex": [
       "Quantum object: dims = [[2, 2], [2, 2]], shape = (4, 4), type = oper, isherm = True\\begin{equation*}\\left(\\begin{array}{*{11}c}0.600 & 0.0 & 0.0 & 0.300\\\\0.0 & -0.100 & 0.300 & 0.0\\\\0.0 & 0.300 & 0.100 & 0.0\\\\0.300 & 0.0 & 0.0 & -0.600\\\\\\end{array}\\right)\\end{equation*}"
      ],
      "text/plain": [
       "Quantum object: dims = [[2, 2], [2, 2]], shape = (4, 4), type = oper, isherm = True\n",
       "Qobj data =\n",
       "[[ 0.6  0.   0.   0.3]\n",
       " [ 0.  -0.1  0.3  0. ]\n",
       " [ 0.   0.3  0.1  0. ]\n",
       " [ 0.3  0.   0.  -0.6]]"
      ]
     },
     "execution_count": 18,
     "metadata": {},
     "output_type": "execute_result"
    }
   ],
   "source": [
    "def H(t):\n",
    "    H = H1 + H2(t)\n",
    "    return H\n",
    "\n",
    "H(t_final)"
   ]
  },
  {
   "cell_type": "markdown",
   "metadata": {
    "heading_collapsed": true
   },
   "source": [
    "## Identity Construction"
   ]
  },
  {
   "cell_type": "code",
   "execution_count": 19,
   "metadata": {
    "ExecuteTime": {
     "end_time": "2018-12-13T11:54:56.846002Z",
     "start_time": "2018-12-13T11:54:56.842883Z"
    },
    "hidden": true
   },
   "outputs": [],
   "source": [
    "I = tensor(Q, Q)\n",
    "#I"
   ]
  },
  {
   "cell_type": "markdown",
   "metadata": {},
   "source": [
    "# Unitary check for g by splitting into regions of time independence and then multiplying"
   ]
  },
  {
   "cell_type": "code",
   "execution_count": 20,
   "metadata": {
    "ExecuteTime": {
     "end_time": "2018-12-13T11:54:56.886289Z",
     "start_time": "2018-12-13T11:54:56.848220Z"
    },
    "code_folding": [],
    "run_control": {
     "marked": false
    }
   },
   "outputs": [
    {
     "data": {
      "text/plain": [
       "array([[  3.01137463e-01-0.90464612j,   0.00000000e+00+0.j        ,\n",
       "          0.00000000e+00+0.j        ,  -1.73622356e-17-0.30154871j],\n",
       "       [  0.00000000e+00+0.j        ,   9.01655595e-01+0.19339968j,\n",
       "          7.06857230e-19-0.38679937j,   0.00000000e+00+0.j        ],\n",
       "       [  0.00000000e+00+0.j        ,   3.96326531e-18-0.38679937j,\n",
       "          9.01655595e-01-0.19339968j,   0.00000000e+00+0.j        ],\n",
       "       [ -1.92344909e-17-0.30154871j,   0.00000000e+00+0.j        ,\n",
       "          0.00000000e+00+0.j        ,   3.01137463e-01+0.90464612j]])"
      ]
     },
     "execution_count": 20,
     "metadata": {},
     "output_type": "execute_result"
    }
   ],
   "source": [
    "#UcS1 = (-1j*H(1)*2.0).expm()\n",
    "UcS1 = expm((-1j*H(1)*2.0).full())\n",
    "UcS1"
   ]
  },
  {
   "cell_type": "code",
   "execution_count": 21,
   "metadata": {
    "ExecuteTime": {
     "end_time": "2018-12-13T11:54:56.905065Z",
     "start_time": "2018-12-13T11:54:56.893289Z"
    }
   },
   "outputs": [
    {
     "data": {
      "text/latex": [
       "Quantum object: dims = [[4], [4]], shape = (4, 4), type = oper, isherm = False\\begin{equation*}\\left(\\begin{array}{*{11}c}(0.301-0.905j) & 0.0 & 0.0 & -0.302j\\\\0.0 & (0.902+0.193j) & -0.387j & 0.0\\\\0.0 & -0.387j & (0.902-0.193j) & 0.0\\\\-0.302j & 0.0 & 0.0 & (0.301+0.905j)\\\\\\end{array}\\right)\\end{equation*}"
      ],
      "text/plain": [
       "Quantum object: dims = [[4], [4]], shape = (4, 4), type = oper, isherm = False\n",
       "Qobj data =\n",
       "[[  3.01137463e-01-0.90464612j   0.00000000e+00+0.j           0.00000000e+00+0.j\n",
       "   -1.73622356e-17-0.30154871j]\n",
       " [  0.00000000e+00+0.j           9.01655595e-01+0.19339968j\n",
       "    7.06857230e-19-0.38679937j   0.00000000e+00+0.j        ]\n",
       " [  0.00000000e+00+0.j           3.96326531e-18-0.38679937j\n",
       "    9.01655595e-01-0.19339968j   0.00000000e+00+0.j        ]\n",
       " [ -1.92344909e-17-0.30154871j   0.00000000e+00+0.j           0.00000000e+00+0.j\n",
       "    3.01137463e-01+0.90464612j]]"
      ]
     },
     "execution_count": 21,
     "metadata": {},
     "output_type": "execute_result"
    }
   ],
   "source": [
    "Qobj(UcS1)"
   ]
  },
  {
   "cell_type": "code",
   "execution_count": 22,
   "metadata": {
    "ExecuteTime": {
     "end_time": "2018-12-13T11:54:56.926540Z",
     "start_time": "2018-12-13T11:54:56.908857Z"
    }
   },
   "outputs": [
    {
     "data": {
      "text/plain": [
       "array([[  7.10192326e-01-0.54083371j,   0.00000000e+00+0.j        ,\n",
       "          0.00000000e+00+0.j        ,   8.84178585e-19-0.45069476j],\n",
       "       [  0.00000000e+00+0.j        ,   8.72792369e-01+0.09572265j,\n",
       "         -2.55895349e-18-0.47861326j,   0.00000000e+00+0.j        ],\n",
       "       [  0.00000000e+00+0.j        ,  -2.12897845e-19-0.47861326j,\n",
       "          8.72792369e-01-0.09572265j,   0.00000000e+00+0.j        ],\n",
       "       [  7.70427071e-18-0.45069476j,   0.00000000e+00+0.j        ,\n",
       "          0.00000000e+00+0.j        ,   7.10192326e-01+0.54083371j]])"
      ]
     },
     "execution_count": 22,
     "metadata": {},
     "output_type": "execute_result"
    }
   ],
   "source": [
    "UcS2 = expm((-1j*H(2.5)*1.0).full())\n",
    "UcS2"
   ]
  },
  {
   "cell_type": "code",
   "execution_count": 23,
   "metadata": {
    "ExecuteTime": {
     "end_time": "2018-12-13T11:54:56.937927Z",
     "start_time": "2018-12-13T11:54:56.928983Z"
    }
   },
   "outputs": [
    {
     "data": {
      "text/plain": [
       "array([[  2.27155220e-01-0.87104558j,   0.00000000e+00+0.j        ,\n",
       "          0.00000000e+00+0.j        ,  -3.39054878e-18-0.43552279j],\n",
       "       [  0.00000000e+00+0.j        ,   8.06578410e-01+0.18693081j,\n",
       "          4.27472490e-18-0.56079242j,   0.00000000e+00+0.j        ],\n",
       "       [  0.00000000e+00+0.j        ,  -1.04964692e-18-0.56079242j,\n",
       "          8.06578410e-01-0.18693081j,   0.00000000e+00+0.j        ],\n",
       "       [  1.13159682e-17-0.43552279j,   0.00000000e+00+0.j        ,\n",
       "          0.00000000e+00+0.j        ,   2.27155220e-01+0.87104558j]])"
      ]
     },
     "execution_count": 23,
     "metadata": {},
     "output_type": "execute_result"
    }
   ],
   "source": [
    "UcS3 = expm((-1j*H(4)*2.0).full())\n",
    "UcS3"
   ]
  },
  {
   "cell_type": "code",
   "execution_count": 24,
   "metadata": {
    "ExecuteTime": {
     "end_time": "2018-12-13T11:54:56.948810Z",
     "start_time": "2018-12-13T11:54:56.940471Z"
    }
   },
   "outputs": [
    {
     "data": {
      "text/plain": [
       "array([[-0.94729611+0.28187043j,  0.00000000+0.j        ,\n",
       "         0.00000000+0.j        ,  0.10155214-0.11342972j],\n",
       "       [ 0.00000000+0.j        , -0.00852332+0.28365823j,\n",
       "        -0.04408184-0.95787377j,  0.00000000+0.j        ],\n",
       "       [ 0.00000000+0.j        ,  0.04408184-0.95787377j,\n",
       "        -0.00852332-0.28365823j,  0.00000000+0.j        ],\n",
       "       [-0.10155214-0.11342972j,  0.00000000+0.j        ,\n",
       "         0.00000000+0.j        , -0.94729611-0.28187043j]])"
      ]
     },
     "execution_count": 24,
     "metadata": {},
     "output_type": "execute_result"
    }
   ],
   "source": [
    "UcS = UcS3@UcS2@UcS1\n",
    "UcS"
   ]
  },
  {
   "cell_type": "markdown",
   "metadata": {},
   "source": [
    "# Trotter Unitary"
   ]
  },
  {
   "cell_type": "code",
   "execution_count": 25,
   "metadata": {
    "ExecuteTime": {
     "end_time": "2018-12-13T11:54:56.960074Z",
     "start_time": "2018-12-13T11:54:56.950824Z"
    }
   },
   "outputs": [],
   "source": [
    "h2 = tensor(sigmax(), sigmax())"
   ]
  },
  {
   "cell_type": "code",
   "execution_count": 26,
   "metadata": {
    "ExecuteTime": {
     "end_time": "2018-12-13T11:54:56.965828Z",
     "start_time": "2018-12-13T11:54:56.962316Z"
    }
   },
   "outputs": [],
   "source": [
    "def U_1(t_start, t_step):\n",
    "    t_end = t_start + t_step\n",
    "    U_1 = expm((-1j*H1*t_step).full())\n",
    "    return U_1\n",
    "    "
   ]
  },
  {
   "cell_type": "code",
   "execution_count": 27,
   "metadata": {
    "ExecuteTime": {
     "end_time": "2018-12-13T11:54:56.972378Z",
     "start_time": "2018-12-13T11:54:56.968236Z"
    }
   },
   "outputs": [],
   "source": [
    "def U_2(t_start, t_step):\n",
    "    t_end = t_start + t_step\n",
    "    U_2 = expm((-1j*i_of_g(t_start, t_step)*h2).full())\n",
    "    return U_2\n",
    "    "
   ]
  },
  {
   "cell_type": "code",
   "execution_count": 28,
   "metadata": {
    "ExecuteTime": {
     "end_time": "2018-12-13T11:54:56.977420Z",
     "start_time": "2018-12-13T11:54:56.974536Z"
    }
   },
   "outputs": [],
   "source": [
    "def U_j(t_start, t_step):\n",
    "    U_j = U_2(t_start, t_step)@U_1(t_start, t_step)\n",
    "    return U_j"
   ]
  },
  {
   "cell_type": "code",
   "execution_count": 29,
   "metadata": {
    "ExecuteTime": {
     "end_time": "2018-12-13T11:54:56.986060Z",
     "start_time": "2018-12-13T11:54:56.979740Z"
    }
   },
   "outputs": [
    {
     "data": {
      "text/plain": [
       "array([[ 1.+0.j,  0.+0.j,  0.+0.j,  0.+0.j],\n",
       "       [ 0.+0.j,  1.+0.j,  0.+0.j,  0.+0.j],\n",
       "       [ 0.+0.j,  0.+0.j,  1.+0.j,  0.+0.j],\n",
       "       [ 0.+0.j,  0.+0.j,  0.+0.j,  1.+0.j]])"
      ]
     },
     "execution_count": 29,
     "metadata": {},
     "output_type": "execute_result"
    }
   ],
   "source": [
    "I.full()"
   ]
  },
  {
   "cell_type": "code",
   "execution_count": 30,
   "metadata": {
    "ExecuteTime": {
     "end_time": "2018-12-13T11:54:57.484752Z",
     "start_time": "2018-12-13T11:54:56.988880Z"
    }
   },
   "outputs": [
    {
     "data": {
      "text/plain": [
       "array([[-0.94729653+0.28186725j,  0.00000000+0.j        ,\n",
       "         0.00000000+0.j        ,  0.10223220-0.11282159j],\n",
       "       [ 0.00000000+0.j        , -0.00852301+0.28365708j,\n",
       "        -0.04503975-0.95782955j,  0.00000000+0.j        ],\n",
       "       [ 0.00000000+0.j        ,  0.04503975-0.95782955j,\n",
       "        -0.00852301-0.28365708j,  0.00000000+0.j        ],\n",
       "       [-0.10223220-0.11282159j,  0.00000000+0.j        ,\n",
       "         0.00000000+0.j        , -0.94729653-0.28186725j]])"
      ]
     },
     "execution_count": 30,
     "metadata": {},
     "output_type": "execute_result"
    }
   ],
   "source": [
    "def U_full(t_final, nd):\n",
    "    U_full = I.full()\n",
    "    t_step = t_final/nd\n",
    "    for i in range(nd):#int(t_final/nd)\n",
    "        U_full =  U_j(i*t_step, t_step) @ U_full\n",
    "    return U_full\n",
    "U_full(t_final, 500)"
   ]
  },
  {
   "cell_type": "code",
   "execution_count": 31,
   "metadata": {
    "ExecuteTime": {
     "end_time": "2018-12-13T11:54:57.490554Z",
     "start_time": "2018-12-13T11:54:57.486567Z"
    }
   },
   "outputs": [],
   "source": [
    "xx=UcS"
   ]
  },
  {
   "cell_type": "code",
   "execution_count": 32,
   "metadata": {
    "ExecuteTime": {
     "end_time": "2018-12-13T11:54:57.597093Z",
     "start_time": "2018-12-13T11:54:57.492800Z"
    }
   },
   "outputs": [],
   "source": [
    "yy=U_full(t_final, 100)"
   ]
  },
  {
   "cell_type": "code",
   "execution_count": 33,
   "metadata": {
    "ExecuteTime": {
     "end_time": "2018-12-13T11:54:57.605344Z",
     "start_time": "2018-12-13T11:54:57.599415Z"
    }
   },
   "outputs": [
    {
     "data": {
      "text/plain": [
       "array([[-0.94729611+0.28187043j,  0.00000000+0.j        ,\n",
       "         0.00000000+0.j        ,  0.10155214-0.11342972j],\n",
       "       [ 0.00000000+0.j        , -0.00852332+0.28365823j,\n",
       "        -0.04408184-0.95787377j,  0.00000000+0.j        ],\n",
       "       [ 0.00000000+0.j        ,  0.04408184-0.95787377j,\n",
       "        -0.00852332-0.28365823j,  0.00000000+0.j        ],\n",
       "       [-0.10155214-0.11342972j,  0.00000000+0.j        ,\n",
       "         0.00000000+0.j        , -0.94729611-0.28187043j]])"
      ]
     },
     "execution_count": 33,
     "metadata": {},
     "output_type": "execute_result"
    }
   ],
   "source": [
    "xx #=UcS"
   ]
  },
  {
   "cell_type": "code",
   "execution_count": 34,
   "metadata": {
    "ExecuteTime": {
     "end_time": "2018-12-13T11:54:57.613017Z",
     "start_time": "2018-12-13T11:54:57.607494Z"
    }
   },
   "outputs": [
    {
     "data": {
      "text/plain": [
       "array([[-0.94730667+0.28179084j,  0.00000000+0.j        ,\n",
       "         0.00000000+0.j        ,  0.10494344-0.11041226j],\n",
       "       [ 0.00000000+0.j        , -0.00851548+0.28362959j,\n",
       "        -0.04887225-0.95764986j,  0.00000000+0.j        ],\n",
       "       [ 0.00000000+0.j        ,  0.04887225-0.95764986j,\n",
       "        -0.00851548-0.28362959j,  0.00000000+0.j        ],\n",
       "       [-0.10494344-0.11041226j,  0.00000000+0.j        ,\n",
       "         0.00000000+0.j        , -0.94730667-0.28179084j]])"
      ]
     },
     "execution_count": 34,
     "metadata": {},
     "output_type": "execute_result"
    }
   ],
   "source": [
    "yy"
   ]
  },
  {
   "cell_type": "code",
   "execution_count": 35,
   "metadata": {
    "ExecuteTime": {
     "end_time": "2018-12-13T11:54:57.620414Z",
     "start_time": "2018-12-13T11:54:57.615379Z"
    }
   },
   "outputs": [
    {
     "data": {
      "text/plain": [
       "array([[-0.94729611-0.28187043j,  0.00000000-0.j        ,\n",
       "         0.00000000-0.j        , -0.10155214+0.11342972j],\n",
       "       [ 0.00000000-0.j        , -0.00852332-0.28365823j,\n",
       "         0.04408184+0.95787377j,  0.00000000-0.j        ],\n",
       "       [ 0.00000000-0.j        , -0.04408184+0.95787377j,\n",
       "        -0.00852332+0.28365823j,  0.00000000-0.j        ],\n",
       "       [ 0.10155214+0.11342972j,  0.00000000-0.j        ,\n",
       "         0.00000000-0.j        , -0.94729611+0.28187043j]])"
      ]
     },
     "execution_count": 35,
     "metadata": {},
     "output_type": "execute_result"
    }
   ],
   "source": [
    "UcSDag = UcS.conj().T\n",
    "UcSDag\n"
   ]
  },
  {
   "cell_type": "code",
   "execution_count": 36,
   "metadata": {
    "ExecuteTime": {
     "end_time": "2018-12-13T11:54:57.734081Z",
     "start_time": "2018-12-13T11:54:57.622981Z"
    }
   },
   "outputs": [
    {
     "data": {
      "text/plain": [
       "1.0902871284801385e-05"
      ]
     },
     "execution_count": 36,
     "metadata": {},
     "output_type": "execute_result"
    }
   ],
   "source": [
    "def trace_d(t_final, nd):\n",
    "    trace_d = 1-abs(trace((U_full(t_final, nd))@(UcS.conj().T)))/4\n",
    "    \n",
    "    return trace_d\n",
    "trace_d(t_final, 100)"
   ]
  },
  {
   "cell_type": "code",
   "execution_count": 37,
   "metadata": {
    "ExecuteTime": {
     "end_time": "2018-12-13T11:55:20.139196Z",
     "start_time": "2018-12-13T11:54:57.736026Z"
    }
   },
   "outputs": [
    {
     "data": {
      "text/plain": [
       "[Text(0,0.5,'trace_distance'),\n",
       " Text(0.5,0,'nd'),\n",
       " Text(0.5,1,'Plot of trace distance with nd')]"
      ]
     },
     "execution_count": 37,
     "metadata": {},
     "output_type": "execute_result"
    },
    {
     "data": {
      "image/png": "[encoded data removed]",
      "text/plain": [
       "<matplotlib.figure.Figure at 0x1a154d15f8>"
      ]
     },
     "metadata": {},
     "output_type": "display_data"
    }
   ],
   "source": [
    "nd_vec = linspace(1, 500, 100)\n",
    "#nd_vec\n",
    "trace_d_vec = array([trace_d(t_final, int(ndi)) for ndi in nd_vec])\n",
    "ax = axes()\n",
    "ax.plot(nd_vec, trace_d_vec)\n",
    "ax.set(xlabel='nd', ylabel='trace_distance', \n",
    "       title='Plot of trace distance with nd')"
   ]
  },
  {
   "cell_type": "code",
   "execution_count": 38,
   "metadata": {
    "ExecuteTime": {
     "end_time": "2018-12-13T11:55:20.148820Z",
     "start_time": "2018-12-13T11:55:20.141286Z"
    }
   },
   "outputs": [
    {
     "data": {
      "text/plain": [
       "array([  4.01324985e-01,   1.54786162e-02,   4.50508670e-03,\n",
       "         2.11017316e-03,   1.21902572e-03,   7.92860226e-04,\n",
       "         5.56582957e-04,   4.12101264e-04,   3.17360856e-04,\n",
       "         2.51897151e-04,   2.04781712e-04,   1.69747296e-04,\n",
       "         1.42990769e-04,   1.22095745e-04,   1.05467259e-04,\n",
       "         9.20181268e-05,   8.09866174e-05,   7.18261773e-05,\n",
       "         6.41364054e-05,   5.76185451e-05,   5.20460222e-05,\n",
       "         4.72444851e-05,   4.30779998e-05,   3.94393216e-05,\n",
       "         3.62429246e-05,   2.40717864e-05,   2.22687218e-05,\n",
       "         2.06609022e-05,   1.92211233e-05,   1.79267593e-05,\n",
       "         1.67588678e-05,   1.57014932e-05,   1.47411192e-05,\n",
       "         1.38662339e-05,   1.30669842e-05,   1.23348964e-05,\n",
       "         1.16626513e-05,   1.10439000e-05,   1.04731139e-05,\n",
       "         9.94546051e-06,   9.45670101e-06,   9.00310474e-06,\n",
       "         8.58137781e-06,   8.18860327e-06,   7.82219034e-06,\n",
       "         7.47983163e-06,   7.15946692e-06,   6.85925183e-06,\n",
       "         6.57753138e-06,   6.31281700e-06,   1.44282357e-05,\n",
       "         1.38744273e-05,   1.33519031e-05,   1.28583504e-05,\n",
       "         1.23916664e-05,   1.19499355e-05,   1.15314102e-05,\n",
       "         1.11344929e-05,   1.07577215e-05,   1.03997551e-05,\n",
       "         1.00593631e-05,   9.73541339e-06,   9.42686398e-06,\n",
       "         9.13275382e-06,   8.85219591e-06,   8.58437016e-06,\n",
       "         8.32851784e-06,   8.08393549e-06,   7.84997094e-06,\n",
       "         7.62601840e-06,   7.41151455e-06,   7.20593539e-06,\n",
       "         7.00879243e-06,   6.81963046e-06,   6.63802444e-06,\n",
       "         2.43623396e-06,   2.37308622e-06,   2.31236217e-06,\n",
       "         2.25393947e-06,   2.19770317e-06,   2.14354572e-06,\n",
       "         2.09136561e-06,   2.04106796e-06,   1.99256323e-06,\n",
       "         1.94576721e-06,   1.90060051e-06,   1.85698848e-06,\n",
       "         1.81486048e-06,   1.77414999e-06,   1.73479415e-06,\n",
       "         1.69673341e-06,   1.65991167e-06,   1.62427565e-06,\n",
       "         1.58977505e-06,   1.55636210e-06,   1.52399152e-06,\n",
       "         1.49262058e-06,   1.46220830e-06,   1.43271607e-06,\n",
       "         4.37966286e-07])"
      ]
     },
     "execution_count": 38,
     "metadata": {},
     "output_type": "execute_result"
    }
   ],
   "source": [
    "trace_d_vec"
   ]
  },
  {
   "cell_type": "code",
   "execution_count": 39,
   "metadata": {
    "ExecuteTime": {
     "end_time": "2018-12-13T11:55:24.781997Z",
     "start_time": "2018-12-13T11:55:20.151245Z"
    }
   },
   "outputs": [
    {
     "data": {
      "text/plain": [
       "[Text(0,0.5,'trace_distance'),\n",
       " Text(0.5,0,'nd'),\n",
       " Text(0.5,1,'Plot of trace distance with nd')]"
      ]
     },
     "execution_count": 39,
     "metadata": {},
     "output_type": "execute_result"
    },
    {
     "data": {
      "image/png": "[encoded data removed]",
      "text/plain": [
       "<matplotlib.figure.Figure at 0x1a1557e4a8>"
      ]
     },
     "metadata": {},
     "output_type": "display_data"
    }
   ],
   "source": [
    "nd_vec = linspace(1, 100, 100)\n",
    "#nd_vec\n",
    "trace_d_vec = array([trace_d(t_final, int(ndi)) for ndi in nd_vec])\n",
    "ax = axes()\n",
    "ax.plot(nd_vec, trace_d_vec)\n",
    "ax.set(xlabel='nd', ylabel='trace_distance', \n",
    "       title='Plot of trace distance with nd')"
   ]
  },
  {
   "cell_type": "code",
   "execution_count": 40,
   "metadata": {
    "ExecuteTime": {
     "end_time": "2018-12-13T11:55:26.000242Z",
     "start_time": "2018-12-13T11:55:24.784209Z"
    }
   },
   "outputs": [
    {
     "data": {
      "text/plain": [
       "[Text(0,0.5,'trace_distance'),\n",
       " Text(0.5,0,'nd'),\n",
       " Text(0.5,1,'Plot of trace distance with nd')]"
      ]
     },
     "execution_count": 40,
     "metadata": {},
     "output_type": "execute_result"
    },
    {
     "data": {
      "image/png": "[encoded data removed]",
      "text/plain": [
       "<matplotlib.figure.Figure at 0x1a15481d68>"
      ]
     },
     "metadata": {},
     "output_type": "display_data"
    }
   ],
   "source": [
    "nd_vec = linspace(1, 20, 100)\n",
    "#nd_vec\n",
    "trace_d_vec = array([trace_d(t_final, int(ndi)) for ndi in nd_vec])\n",
    "ax = axes()\n",
    "ax.plot(nd_vec, trace_d_vec)\n",
    "ax.set(xlabel='nd', ylabel='trace_distance', \n",
    "       title='Plot of trace distance with nd')"
   ]
  },
  {
   "cell_type": "markdown",
   "metadata": {
    "heading_collapsed": true
   },
   "source": [
    "# Unitary m piecewise constant"
   ]
  },
  {
   "cell_type": "code",
   "execution_count": 41,
   "metadata": {
    "ExecuteTime": {
     "end_time": "2018-12-13T11:55:26.017964Z",
     "start_time": "2018-12-13T11:55:26.002594Z"
    },
    "code_folding": [],
    "hidden": true
   },
   "outputs": [
    {
     "data": {
      "text/latex": [
       "Quantum object: dims = [[2, 2], [2, 2]], shape = (4, 4), type = oper, isherm = False\\begin{equation*}\\left(\\begin{array}{*{11}c}(0.301-0.905j) & 0.0 & 0.0 & -0.302j\\\\0.0 & (0.902+0.193j) & -0.387j & 0.0\\\\0.0 & -0.387j & (0.902-0.193j) & 0.0\\\\-0.302j & 0.0 & 0.0 & (0.301+0.905j)\\\\\\end{array}\\right)\\end{equation*}"
      ],
      "text/plain": [
       "Quantum object: dims = [[2, 2], [2, 2]], shape = (4, 4), type = oper, isherm = False\n",
       "Qobj data =\n",
       "[[ 0.30113746-0.90464612j  0.00000000+0.j          0.00000000+0.j\n",
       "   0.00000000-0.30154871j]\n",
       " [ 0.00000000+0.j          0.90165560+0.19339968j  0.00000000-0.38679937j\n",
       "   0.00000000+0.j        ]\n",
       " [ 0.00000000+0.j          0.00000000-0.38679937j  0.90165560-0.19339968j\n",
       "   0.00000000+0.j        ]\n",
       " [ 0.00000000-0.30154871j  0.00000000+0.j          0.00000000+0.j\n",
       "   0.30113746+0.90464612j]]"
      ]
     },
     "execution_count": 41,
     "metadata": {},
     "output_type": "execute_result"
    }
   ],
   "source": [
    "def UcM1(m):\n",
    "    UcM1 = I\n",
    "    dt = 2/m\n",
    "    for ti in range(m):\n",
    "        UcM1 *= (-1j*H(ti*dt)*dt).expm()\n",
    "    return UcM1\n",
    "\n",
    "UcM1(2)"
   ]
  },
  {
   "cell_type": "code",
   "execution_count": 42,
   "metadata": {
    "ExecuteTime": {
     "end_time": "2018-12-13T11:55:26.903079Z",
     "start_time": "2018-12-13T11:55:26.025025Z"
    },
    "code_folding": [
     0
    ],
    "hidden": true
   },
   "outputs": [
    {
     "data": {
      "text/latex": [
       "Quantum object: dims = [[2, 2], [2, 2]], shape = (4, 4), type = oper, isherm = False\\begin{equation*}\\left(\\begin{array}{*{11}c}(0.710-0.541j) & 0.0 & 0.0 & (-3.240\\times10^{-04}-0.450j)\\\\0.0 & (0.873+0.096j) & (5.733\\times10^{-05}-0.478j) & 0.0\\\\0.0 & (-5.733\\times10^{-05}-0.478j) & (0.873-0.096j) & 0.0\\\\(3.240\\times10^{-04}-0.450j) & 0.0 & 0.0 & (0.710+0.541j)\\\\\\end{array}\\right)\\end{equation*}"
      ],
      "text/plain": [
       "Quantum object: dims = [[2, 2], [2, 2]], shape = (4, 4), type = oper, isherm = False\n",
       "Qobj data =\n",
       "[[  7.10462615e-01-0.54083393j   0.00000000e+00+0.j           0.00000000e+00+0.j\n",
       "   -3.23988403e-04-0.45026817j]\n",
       " [  0.00000000e+00+0.j           8.73079379e-01+0.09572269j\n",
       "    5.73288247e-05-0.47808949j   0.00000000e+00+0.j        ]\n",
       " [  0.00000000e+00+0.j          -5.73288247e-05-0.47808949j\n",
       "    8.73079379e-01-0.09572269j   0.00000000e+00+0.j        ]\n",
       " [  3.23988403e-04-0.45026817j   0.00000000e+00+0.j           0.00000000e+00+0.j\n",
       "    7.10462615e-01+0.54083393j]]"
      ]
     },
     "execution_count": 42,
     "metadata": {},
     "output_type": "execute_result"
    }
   ],
   "source": [
    "def UcM2(m):\n",
    "    UcM2 = I\n",
    "    dt = 1/m\n",
    "    for ti in range(m):\n",
    "        UcM2 *= (-1j*H(2.0 + ti*dt)*dt).expm()\n",
    "    return UcM2\n",
    "\n",
    "# UcM2(2)\n",
    "UcM2(500)"
   ]
  },
  {
   "cell_type": "code",
   "execution_count": 43,
   "metadata": {
    "ExecuteTime": {
     "end_time": "2018-12-13T11:55:27.784075Z",
     "start_time": "2018-12-13T11:55:26.905287Z"
    },
    "code_folding": [
     0
    ],
    "hidden": true
   },
   "outputs": [
    {
     "data": {
      "text/latex": [
       "Quantum object: dims = [[2, 2], [2, 2]], shape = (4, 4), type = oper, isherm = False\\begin{equation*}\\left(\\begin{array}{*{11}c}(0.227-0.871j) & 0.0 & 0.0 & (6.964\\times10^{-04}-0.436j)\\\\0.0 & (0.806+0.187j) & (-1.493\\times10^{-04}-0.561j) & 0.0\\\\0.0 & (1.493\\times10^{-04}-0.561j) & (0.806-0.187j) & 0.0\\\\(-6.964\\times10^{-04}-0.436j) & 0.0 & 0.0 & (0.227+0.871j)\\\\\\end{array}\\right)\\end{equation*}"
      ],
      "text/plain": [
       "Quantum object: dims = [[2, 2], [2, 2]], shape = (4, 4), type = oper, isherm = False\n",
       "Qobj data =\n",
       "[[  2.26806729e-01-0.87104447j   0.00000000e+00+0.j           0.00000000e+00+0.j\n",
       "    6.96396686e-04-0.43570605j]\n",
       " [  0.00000000e+00+0.j           8.06129518e-01+0.18693057j\n",
       "   -1.49286318e-04-0.56143757j   0.00000000e+00+0.j        ]\n",
       " [  0.00000000e+00+0.j           1.49286318e-04-0.56143757j\n",
       "    8.06129518e-01-0.18693057j   0.00000000e+00+0.j        ]\n",
       " [ -6.96396686e-04-0.43570605j   0.00000000e+00+0.j           0.00000000e+00+0.j\n",
       "    2.26806729e-01+0.87104447j]]"
      ]
     },
     "execution_count": 43,
     "metadata": {},
     "output_type": "execute_result"
    }
   ],
   "source": [
    "def UcM3(m):\n",
    "    UcM3 = I\n",
    "    dt = 2/m\n",
    "    for ti in range(m):\n",
    "        UcM3 *= (-1j*H(3.0 + ti*dt)*dt).expm()\n",
    "    return UcM3\n",
    "\n",
    "# UcM3(2)\n",
    "UcM3(500)"
   ]
  },
  {
   "cell_type": "code",
   "execution_count": 44,
   "metadata": {
    "ExecuteTime": {
     "end_time": "2018-12-13T11:55:30.415672Z",
     "start_time": "2018-12-13T11:55:27.786504Z"
    },
    "hidden": true
   },
   "outputs": [
    {
     "data": {
      "text/latex": [
       "Quantum object: dims = [[2, 2], [2, 2]], shape = (4, 4), type = oper, isherm = False\\begin{equation*}\\left(\\begin{array}{*{11}c}(-0.948+0.282j) & 0.0 & 0.0 & (0.101-0.112j)\\\\0.0 & (-0.009+0.284j) & (-0.044-0.958j) & 0.0\\\\0.0 & (0.044-0.958j) & (-0.009-0.284j) & 0.0\\\\(-0.101-0.112j) & 0.0 & 0.0 & (-0.948-0.282j)\\\\\\end{array}\\right)\\end{equation*}"
      ],
      "text/plain": [
       "Quantum object: dims = [[2, 2], [2, 2]], shape = (4, 4), type = oper, isherm = False\n",
       "Qobj data =\n",
       "[[-0.94757362+0.28152487j  0.00000000+0.j          0.00000000+0.j\n",
       "   0.10106851-0.11239727j]\n",
       " [ 0.00000000+0.j         -0.00872730+0.28382156j -0.04426967-0.95781489j\n",
       "   0.00000000+0.j        ]\n",
       " [ 0.00000000+0.j          0.04426967-0.95781489j -0.00872730-0.28382156j\n",
       "   0.00000000+0.j        ]\n",
       " [-0.10106851-0.11239727j  0.00000000+0.j          0.00000000+0.j\n",
       "  -0.94757362-0.28152487j]]"
      ]
     },
     "execution_count": 44,
     "metadata": {},
     "output_type": "execute_result"
    }
   ],
   "source": [
    "# UcM = UcM3(2)*UcM2(2)*UcM1(2)\n",
    "# UcM = UcM3(500)*UcM2(500)*UcM1(500)\n",
    "def UcM(m):\n",
    "    UcM = UcM3(m)*UcM2(m)*UcM1(m)\n",
    "    return UcM\n",
    "UcM(500)"
   ]
  },
  {
   "cell_type": "markdown",
   "metadata": {},
   "source": [
    "# Trace distance "
   ]
  },
  {
   "cell_type": "markdown",
   "metadata": {},
   "source": [
    "## between splitting and trotter "
   ]
  },
  {
   "cell_type": "code",
   "execution_count": 45,
   "metadata": {
    "ExecuteTime": {
     "end_time": "2018-12-13T11:55:30.422323Z",
     "start_time": "2018-12-13T11:55:30.418483Z"
    }
   },
   "outputs": [],
   "source": [
    "def UUcSDag(t_final, nd):\n",
    "    UUcSDag = U_full(t_final, nd)*(UcS.dag())\n",
    "    return UUcSDag"
   ]
  },
  {
   "cell_type": "code",
   "execution_count": 46,
   "metadata": {
    "ExecuteTime": {
     "end_time": "2018-12-13T11:55:30.600157Z",
     "start_time": "2018-12-13T11:55:30.425151Z"
    }
   },
   "outputs": [
    {
     "ename": "AttributeError",
     "evalue": "'numpy.ndarray' object has no attribute 'dag'",
     "output_type": "error",
     "traceback": [
      "\u001b[0;31m---------------------------------------------------------------------------\u001b[0m",
      "\u001b[0;31mAttributeError\u001b[0m                            Traceback (most recent call last)",
      "\u001b[0;32m<ipython-input-46-8db28cbaeb9c>\u001b[0m in \u001b[0;36m<module>\u001b[0;34m()\u001b[0m\n\u001b[1;32m      2\u001b[0m     \u001b[0mtrd\u001b[0m \u001b[0;34m=\u001b[0m \u001b[0;34m(\u001b[0m\u001b[0mI\u001b[0m \u001b[0;34m-\u001b[0m \u001b[0mUUcSDag\u001b[0m\u001b[0;34m(\u001b[0m\u001b[0mt_final\u001b[0m\u001b[0;34m,\u001b[0m \u001b[0mnd\u001b[0m\u001b[0;34m)\u001b[0m\u001b[0;34m)\u001b[0m\u001b[0;34m.\u001b[0m\u001b[0mtr\u001b[0m\u001b[0;34m(\u001b[0m\u001b[0;34m)\u001b[0m\u001b[0;34m\u001b[0m\u001b[0m\n\u001b[1;32m      3\u001b[0m     \u001b[0;32mreturn\u001b[0m \u001b[0mtrd\u001b[0m\u001b[0;34m\u001b[0m\u001b[0m\n\u001b[0;32m----> 4\u001b[0;31m \u001b[0mtrd\u001b[0m\u001b[0;34m(\u001b[0m\u001b[0mt_final\u001b[0m\u001b[0;34m,\u001b[0m \u001b[0;36m100\u001b[0m\u001b[0;34m)\u001b[0m\u001b[0;34m\u001b[0m\u001b[0m\n\u001b[0m",
      "\u001b[0;32m<ipython-input-46-8db28cbaeb9c>\u001b[0m in \u001b[0;36mtrd\u001b[0;34m(t_final, nd)\u001b[0m\n\u001b[1;32m      1\u001b[0m \u001b[0;32mdef\u001b[0m \u001b[0mtrd\u001b[0m\u001b[0;34m(\u001b[0m\u001b[0mt_final\u001b[0m\u001b[0;34m,\u001b[0m \u001b[0mnd\u001b[0m\u001b[0;34m)\u001b[0m\u001b[0;34m:\u001b[0m\u001b[0;34m\u001b[0m\u001b[0m\n\u001b[0;32m----> 2\u001b[0;31m     \u001b[0mtrd\u001b[0m \u001b[0;34m=\u001b[0m \u001b[0;34m(\u001b[0m\u001b[0mI\u001b[0m \u001b[0;34m-\u001b[0m \u001b[0mUUcSDag\u001b[0m\u001b[0;34m(\u001b[0m\u001b[0mt_final\u001b[0m\u001b[0;34m,\u001b[0m \u001b[0mnd\u001b[0m\u001b[0;34m)\u001b[0m\u001b[0;34m)\u001b[0m\u001b[0;34m.\u001b[0m\u001b[0mtr\u001b[0m\u001b[0;34m(\u001b[0m\u001b[0;34m)\u001b[0m\u001b[0;34m\u001b[0m\u001b[0m\n\u001b[0m\u001b[1;32m      3\u001b[0m     \u001b[0;32mreturn\u001b[0m \u001b[0mtrd\u001b[0m\u001b[0;34m\u001b[0m\u001b[0m\n\u001b[1;32m      4\u001b[0m \u001b[0mtrd\u001b[0m\u001b[0;34m(\u001b[0m\u001b[0mt_final\u001b[0m\u001b[0;34m,\u001b[0m \u001b[0;36m100\u001b[0m\u001b[0;34m)\u001b[0m\u001b[0;34m\u001b[0m\u001b[0m\n",
      "\u001b[0;32m<ipython-input-45-25a7ef5c26c0>\u001b[0m in \u001b[0;36mUUcSDag\u001b[0;34m(t_final, nd)\u001b[0m\n\u001b[1;32m      1\u001b[0m \u001b[0;32mdef\u001b[0m \u001b[0mUUcSDag\u001b[0m\u001b[0;34m(\u001b[0m\u001b[0mt_final\u001b[0m\u001b[0;34m,\u001b[0m \u001b[0mnd\u001b[0m\u001b[0;34m)\u001b[0m\u001b[0;34m:\u001b[0m\u001b[0;34m\u001b[0m\u001b[0m\n\u001b[0;32m----> 2\u001b[0;31m     \u001b[0mUUcSDag\u001b[0m \u001b[0;34m=\u001b[0m \u001b[0mU_full\u001b[0m\u001b[0;34m(\u001b[0m\u001b[0mt_final\u001b[0m\u001b[0;34m,\u001b[0m \u001b[0mnd\u001b[0m\u001b[0;34m)\u001b[0m\u001b[0;34m*\u001b[0m\u001b[0;34m(\u001b[0m\u001b[0mUcS\u001b[0m\u001b[0;34m.\u001b[0m\u001b[0mdag\u001b[0m\u001b[0;34m(\u001b[0m\u001b[0;34m)\u001b[0m\u001b[0;34m)\u001b[0m\u001b[0;34m\u001b[0m\u001b[0m\n\u001b[0m\u001b[1;32m      3\u001b[0m     \u001b[0;32mreturn\u001b[0m \u001b[0mUUcSDag\u001b[0m\u001b[0;34m\u001b[0m\u001b[0m\n",
      "\u001b[0;31mAttributeError\u001b[0m: 'numpy.ndarray' object has no attribute 'dag'"
     ]
    }
   ],
   "source": [
    "def trd(t_final, nd):\n",
    "    trd = (I - UUcSDag(t_final, nd)).tr()\n",
    "    return trd\n",
    "trd(t_final, 100)"
   ]
  },
  {
   "cell_type": "code",
   "execution_count": null,
   "metadata": {
    "ExecuteTime": {
     "end_time": "2018-12-13T11:55:30.601306Z",
     "start_time": "2018-12-13T11:54:55.861Z"
    }
   },
   "outputs": [],
   "source": [
    "nd_span = linspace(1,1000,100)\n",
    "# nd_span"
   ]
  },
  {
   "cell_type": "code",
   "execution_count": null,
   "metadata": {
    "ExecuteTime": {
     "end_time": "2018-12-13T11:55:30.605047Z",
     "start_time": "2018-12-13T11:54:55.864Z"
    }
   },
   "outputs": [],
   "source": [
    "tr_span = [trd(t_final, int(ndi)) for ndi in nd_span]\n",
    "tr_span_ar = array(tr_span)\n",
    "atr_span = abs(tr_span_ar)\n",
    "atr_span"
   ]
  },
  {
   "cell_type": "code",
   "execution_count": null,
   "metadata": {
    "ExecuteTime": {
     "end_time": "2018-12-13T11:55:30.606826Z",
     "start_time": "2018-12-13T11:54:55.866Z"
    }
   },
   "outputs": [],
   "source": [
    "ax = axes()\n",
    "ax.plot(nd_span, atr_span)\n",
    "ax.set(xlabel='nd', ylabel='Abs_trace_dist', \n",
    "      title='Plot of trace distance v/s nd',\n",
    "      )"
   ]
  },
  {
   "cell_type": "code",
   "execution_count": null,
   "metadata": {
    "ExecuteTime": {
     "end_time": "2018-12-13T11:55:30.608446Z",
     "start_time": "2018-12-13T11:54:55.868Z"
    }
   },
   "outputs": [],
   "source": [
    "atr_span[-1]"
   ]
  },
  {
   "cell_type": "code",
   "execution_count": null,
   "metadata": {
    "ExecuteTime": {
     "end_time": "2018-12-13T11:55:30.609828Z",
     "start_time": "2018-12-13T11:54:55.871Z"
    }
   },
   "outputs": [],
   "source": [
    "atr_span[-1]"
   ]
  },
  {
   "cell_type": "code",
   "execution_count": null,
   "metadata": {},
   "outputs": [],
   "source": []
  },
  {
   "cell_type": "markdown",
   "metadata": {},
   "source": [
    "## between splitting and  m"
   ]
  },
  {
   "cell_type": "code",
   "execution_count": null,
   "metadata": {
    "ExecuteTime": {
     "end_time": "2018-12-13T11:55:30.611571Z",
     "start_time": "2018-12-13T11:54:55.970Z"
    }
   },
   "outputs": [],
   "source": [
    "def UcMUcSDag(m):\n",
    "    UcMUcSDag = UcM(m)*(UcS.dag())\n",
    "    return UcMUcSDag"
   ]
  },
  {
   "cell_type": "code",
   "execution_count": null,
   "metadata": {
    "ExecuteTime": {
     "end_time": "2018-12-13T11:55:30.613083Z",
     "start_time": "2018-12-13T11:54:55.973Z"
    }
   },
   "outputs": [],
   "source": [
    "def trd_m(m):\n",
    "    trd = (I - UcMUcSDag(m)).tr()\n",
    "    return trd\n",
    "trd_m(100)"
   ]
  },
  {
   "cell_type": "code",
   "execution_count": null,
   "metadata": {
    "ExecuteTime": {
     "end_time": "2018-12-13T11:55:30.614959Z",
     "start_time": "2018-12-13T11:54:55.975Z"
    }
   },
   "outputs": [],
   "source": [
    "m_span_float = linspace(1,100,10)\n",
    "# m_span = int(linspace(1,100,10))\n",
    "m_span = array([int(mf) for mf in m_span_float])\n",
    "m_span"
   ]
  },
  {
   "cell_type": "code",
   "execution_count": null,
   "metadata": {
    "ExecuteTime": {
     "end_time": "2018-12-13T11:55:30.616461Z",
     "start_time": "2018-12-13T11:54:55.977Z"
    }
   },
   "outputs": [],
   "source": [
    "tr_m_span = [trd_m(m) for m in m_span]"
   ]
  },
  {
   "cell_type": "code",
   "execution_count": null,
   "metadata": {
    "ExecuteTime": {
     "end_time": "2018-12-13T11:55:30.617931Z",
     "start_time": "2018-12-13T11:54:55.979Z"
    }
   },
   "outputs": [],
   "source": [
    "tr_m_span_ar = array(tr_m_span)\n",
    "atr_m_span = abs(tr_m_span_ar)\n",
    "atr_m_span"
   ]
  },
  {
   "cell_type": "code",
   "execution_count": null,
   "metadata": {
    "ExecuteTime": {
     "end_time": "2018-12-13T11:55:30.619943Z",
     "start_time": "2018-12-13T11:54:55.982Z"
    }
   },
   "outputs": [],
   "source": [
    "ax = axes()\n",
    "ax.plot(m_span, atr_m_span)\n",
    "ax.set(xlabel='n', ylabel='Abs_trace_dist', \n",
    "      title='Plot of trace distance v/s n')"
   ]
  },
  {
   "cell_type": "code",
   "execution_count": null,
   "metadata": {
    "ExecuteTime": {
     "end_time": "2018-12-13T11:55:30.625087Z",
     "start_time": "2018-12-13T11:54:55.984Z"
    }
   },
   "outputs": [],
   "source": [
    "atr_m_span[-1]"
   ]
  },
  {
   "cell_type": "code",
   "execution_count": null,
   "metadata": {},
   "outputs": [],
   "source": []
  },
  {
   "cell_type": "code",
   "execution_count": null,
   "metadata": {
    "ExecuteTime": {
     "end_time": "2018-12-13T11:55:30.627799Z",
     "start_time": "2018-12-13T11:54:55.987Z"
    }
   },
   "outputs": [],
   "source": [
    "a = array([[2, 3], [6, 7]])\n",
    "a"
   ]
  },
  {
   "cell_type": "code",
   "execution_count": null,
   "metadata": {
    "ExecuteTime": {
     "end_time": "2018-12-13T11:55:30.629749Z",
     "start_time": "2018-12-13T11:54:55.989Z"
    }
   },
   "outputs": [],
   "source": [
    "exp(a)"
   ]
  },
  {
   "cell_type": "code",
   "execution_count": null,
   "metadata": {
    "ExecuteTime": {
     "end_time": "2018-12-13T11:55:30.631564Z",
     "start_time": "2018-12-13T11:54:55.991Z"
    }
   },
   "outputs": [],
   "source": [
    "import scipy.linalg as s\n"
   ]
  },
  {
   "cell_type": "code",
   "execution_count": null,
   "metadata": {
    "ExecuteTime": {
     "end_time": "2018-12-13T11:55:30.633230Z",
     "start_time": "2018-12-13T11:54:55.993Z"
    }
   },
   "outputs": [],
   "source": [
    "s.expm(a)"
   ]
  },
  {
   "cell_type": "code",
   "execution_count": null,
   "metadata": {
    "ExecuteTime": {
     "end_time": "2018-12-13T11:55:30.634637Z",
     "start_time": "2018-12-13T11:54:55.995Z"
    }
   },
   "outputs": [],
   "source": [
    "aQ = Qobj(a)\n",
    "aQ"
   ]
  },
  {
   "cell_type": "code",
   "execution_count": null,
   "metadata": {
    "ExecuteTime": {
     "end_time": "2018-12-13T11:55:30.636870Z",
     "start_time": "2018-12-13T11:54:55.998Z"
    }
   },
   "outputs": [],
   "source": [
    "aQ.expm()"
   ]
  },
  {
   "cell_type": "code",
   "execution_count": null,
   "metadata": {
    "ExecuteTime": {
     "end_time": "2018-12-13T11:55:30.642970Z",
     "start_time": "2018-12-13T11:54:56.000Z"
    }
   },
   "outputs": [],
   "source": [
    "exp(2)"
   ]
  },
  {
   "cell_type": "code",
   "execution_count": null,
   "metadata": {},
   "outputs": [],
   "source": []
  }
 ],
 "metadata": {
  "kernelspec": {
   "display_name": "Python 3",
   "language": "python",
   "name": "python3"
  },
  "language_info": {
   "codemirror_mode": {
    "name": "ipython",
    "version": 3
   },
   "file_extension": ".py",
   "mimetype": "text/x-python",
   "name": "python",
   "nbconvert_exporter": "python",
   "pygments_lexer": "ipython3",
   "version": "3.6.2"
  },
  "toc": {
   "base_numbering": 1,
   "nav_menu": {},
   "number_sections": true,
   "sideBar": true,
   "skip_h1_title": false,
   "title_cell": "Table of Contents",
   "title_sidebar": "Contents",
   "toc_cell": false,
   "toc_position": {},
   "toc_section_display": true,
   "toc_window_display": false
  }
 },
 "nbformat": 4,
 "nbformat_minor": 2
}
